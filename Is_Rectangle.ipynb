{
 "cells": [
  {
   "cell_type": "markdown",
   "id": "c5e09397",
   "metadata": {},
   "source": [
    "# Task 2: Is Rectangle?\n",
    "<br>\n",
    "Given four positive integers A, B, C, D, determine if there’s a rectangle such that the lengths of its sides are A, B, C and D (in any order). <br>\n",
    "If any such rectangle exist return 1 else return 0.<br>\n",
    "<br>\n",
    "<code>\n",
    "def is_rectangle (int:A, int:B, int:C, int:D):\n",
    "    A : integer value that is one side of the rectangle.\n",
    "    B : integer value that is one side of the rectangle.C : integer value that is one side of the rectangle.\n",
    "    D : integer value that is one side of the rectangle.\n",
    "    Return if is a rectangle return 1 else 0.\n",
    "</code>"
   ]
  },
  {
   "cell_type": "markdown",
   "id": "778a8bed",
   "metadata": {},
   "source": [
    "# Approach 1\n",
    "\n",
    "The simple approach is generate all possible combination of 2 pairs of sides and check if each pair contains numbers that are equal to each other.<br>\n",
    "<br>\n",
    "Now let's consider that we have a quantum circuit to compare 2 numbers, then we'll follow following steps:\n",
    "1) Generate all possible combinations of sides.\n",
    "2) For each pairs of sides:\n",
    "    i) Convert both numbers in pair to binary representation\n",
    "    ii) Prefix number with less number of bits with 0 to make both numbers of same lengths in binary.\n",
    "    iii) Intialize qbits states for both numbers according to binary representation.\n",
    "    iv) Run the quantum circuit to generate result if 2 numbers are equal.\n",
    "3) If both pairs have equal length sides, the combination can possibly generate a rectangle"
   ]
  },
  {
   "cell_type": "markdown",
   "id": "0998a6a6",
   "metadata": {},
   "source": [
    "### Binary Representation\n",
    "\n",
    "Let's start with generating binary representation of the number. <br>"
   ]
  },
  {
   "cell_type": "code",
   "execution_count": 1,
   "id": "583cb800",
   "metadata": {},
   "outputs": [],
   "source": [
    "def convertToBinStr(num: int) -> str:\n",
    "    \"\"\"\n",
    "    Generate binary string representation for decimal number.\n",
    "    Note:- Not handling the negative numbers as the length of\n",
    "    side can't be negative.\n",
    "    \"\"\"\n",
    "    ans = ''\n",
    "    if num == 0:\n",
    "        return '0'\n",
    "    while num:\n",
    "        ans = str(num % 2) + ans\n",
    "        num //= 2\n",
    "    return ans"
   ]
  },
  {
   "cell_type": "code",
   "execution_count": 2,
   "id": "cba2d896",
   "metadata": {},
   "outputs": [],
   "source": [
    "# Let's try out 3-4 numbers\n",
    "# bin() converts decimal to binary in python\n",
    "assert \"0b\"+format(convertToBinStr(8)) == bin(8), \"Both representations are not equal\"\n",
    "assert \"0b\"+format(convertToBinStr(15)) == bin(15), \"Both representations are not equal\"\n",
    "assert \"0b\"+format(convertToBinStr(894)) == bin(894), \"Both representations are not equal\"\n",
    "assert \"0b\"+format(convertToBinStr(0)) == bin(0), \"Both representations are not equal\""
   ]
  },
  {
   "cell_type": "markdown",
   "id": "01d4c7b3",
   "metadata": {},
   "source": [
    "### Make both binary representations of same length\n",
    "<br>\n",
    "Binary representations of both numbers might not be of the same length. <br>\n",
    "So , we'll prefix the smaller string with zeros <br>"
   ]
  },
  {
   "cell_type": "code",
   "execution_count": 3,
   "id": "3c5bd49e",
   "metadata": {},
   "outputs": [],
   "source": [
    "from typing import Tuple"
   ]
  },
  {
   "cell_type": "code",
   "execution_count": 4,
   "id": "f2443d3f",
   "metadata": {},
   "outputs": [],
   "source": [
    "def equalizeLength(str1: str, str2: str) -> Tuple[str, str]:\n",
    "    if len(str2) > len(str1):\n",
    "        for _ in range(len(str1), len(str2)):\n",
    "            str1 = '0' + str1\n",
    "    elif len(str1) > len(str2):\n",
    "        for _ in range(len(str2), len(str1)):\n",
    "            str2 = '0' + str2\n",
    "    return (str1, str2)"
   ]
  },
  {
   "cell_type": "code",
   "execution_count": 5,
   "id": "6c9054d9",
   "metadata": {},
   "outputs": [
    {
     "name": "stdout",
     "output_type": "stream",
     "text": [
      "0001000 1010000 True\n",
      "1111 1101 True\n",
      "00000000000 10101101011 True\n",
      "00000000011101011 11011000110011011 True\n"
     ]
    }
   ],
   "source": [
    "# Lets try out few examples here.\n",
    "str1, str2 = equalizeLength(convertToBinStr(8), convertToBinStr(80))\n",
    "print(str1, str2, len(str1) == len(str2))\n",
    "\n",
    "str1, str2 = equalizeLength(convertToBinStr(15), convertToBinStr(13))\n",
    "print(str1, str2, len(str1) == len(str2))\n",
    "\n",
    "str1, str2 = equalizeLength(convertToBinStr(0), convertToBinStr(1387))\n",
    "print(str1, str2, len(str1) == len(str2))\n",
    "\n",
    "str1, str2 = equalizeLength(convertToBinStr(235), convertToBinStr(111003))\n",
    "print(str1, str2, len(str1) == len(str2))"
   ]
  },
  {
   "cell_type": "markdown",
   "id": "2bb76ac8",
   "metadata": {},
   "source": [
    "### Initialize Qbits according to binary representation\n",
    "<br>\n",
    "We'll use qiskit's <a href=https://qiskit.org/documentation/stubs/qiskit.quantum_info.Statevector.html>Statevector.from_label</a> to initilize qbits from string."
   ]
  },
  {
   "cell_type": "code",
   "execution_count": 6,
   "id": "f3d251b7",
   "metadata": {},
   "outputs": [],
   "source": [
    "from qiskit import QuantumCircuit, execute, BasicAer\n",
    "from qiskit.quantum_info import Statevector"
   ]
  },
  {
   "cell_type": "code",
   "execution_count": 7,
   "id": "5e46780d",
   "metadata": {},
   "outputs": [
    {
     "data": {
      "image/png": "[encoded data removed]",
      "text/plain": [
       "<Figure size 538.33x618.722 with 1 Axes>"
      ]
     },
     "execution_count": 7,
     "metadata": {},
     "output_type": "execute_result"
    }
   ],
   "source": [
    "str1 = '1010000'\n",
    "n = len(str1)\n",
    "qc = QuantumCircuit(n)\n",
    "qc.initialize(Statevector.from_label(str1), range(n))\n",
    "qc.draw('mpl')"
   ]
  },
  {
   "cell_type": "code",
   "execution_count": 8,
   "id": "e08705bf",
   "metadata": {},
   "outputs": [
    {
     "data": {
      "text/plain": [
       "{'1010000': 1024}"
      ]
     },
     "execution_count": 8,
     "metadata": {},
     "output_type": "execute_result"
    }
   ],
   "source": [
    "qc.measure_all()\n",
    "execute(qc, backend=BasicAer.get_backend('qasm_simulator')).result().get_counts()"
   ]
  },
  {
   "cell_type": "markdown",
   "id": "795a0f11",
   "metadata": {},
   "source": [
    "We can achieve the same result using below function"
   ]
  },
  {
   "cell_type": "code",
   "execution_count": 9,
   "id": "f80caa9d",
   "metadata": {},
   "outputs": [],
   "source": [
    "def init(bit_str: str) -> QuantumCircuit:\n",
    "    n_qbits = len(bit_str)\n",
    "    qc = QuantumCircuit(n_qbits)\n",
    "    for i, chr in enumerate(bit_str):\n",
    "        if chr == '1':\n",
    "            qc.x(n_qbits-i-1)\n",
    "    return qc"
   ]
  },
  {
   "cell_type": "code",
   "execution_count": 10,
   "id": "3a7f7cb5",
   "metadata": {},
   "outputs": [
    {
     "data": {
      "image/png": "[encoded data removed]",
      "text/plain": [
       "<Figure size 203.885x618.722 with 1 Axes>"
      ]
     },
     "execution_count": 10,
     "metadata": {},
     "output_type": "execute_result"
    }
   ],
   "source": [
    "str1 = '1010000'\n",
    "qc = init(str1)\n",
    "qc.draw('mpl')"
   ]
  },
  {
   "cell_type": "code",
   "execution_count": 11,
   "id": "f82b3eb7",
   "metadata": {},
   "outputs": [
    {
     "data": {
      "text/plain": [
       "{'1010000': 1024}"
      ]
     },
     "execution_count": 11,
     "metadata": {},
     "output_type": "execute_result"
    }
   ],
   "source": [
    "qc.measure_all()\n",
    "execute(qc, backend=BasicAer.get_backend('qasm_simulator')).result().get_counts()"
   ]
  },
  {
   "cell_type": "markdown",
   "id": "a41eab0c",
   "metadata": {},
   "source": [
    "## Quantum circuit\n",
    "<br>\n",
    "We want to check if 2 bits are same. In classical realm, we have XOR gate for this purpose.<br>\n",
    "The truth table for XOR gate is as follows:\n"
   ]
  },
  {
   "cell_type": "markdown",
   "id": "3e99026c",
   "metadata": {},
   "source": [
    "| Bit1 | Bit2 | Result\n",
    "| :- |-------------: | :-:\n",
    "| 0 | 0 | 0 \n",
    "| 0 | 1 | 1 \n",
    "| 1 | 0 | 1 \n",
    "| 1 | 1 | 0 "
   ]
  },
  {
   "cell_type": "markdown",
   "id": "0439328e",
   "metadata": {},
   "source": [
    "In Quantum world, we can generate same results using 2 Qbits and 1 ancilla Qbit to read the results. <br>\n",
    "And using 2 CNOT gates. Let's create this circuit."
   ]
  },
  {
   "cell_type": "code",
   "execution_count": 12,
   "id": "f5861a8e",
   "metadata": {},
   "outputs": [],
   "source": [
    "def xor(bit1, bit2):\n",
    "    qc = QuantumCircuit(3, 1)\n",
    "    if bit1 == 1:\n",
    "        qc.x(0)\n",
    "    if bit2 == 1:\n",
    "        qc.x(1)\n",
    "    qc.barrier()\n",
    "    qc.cx(0, 2)\n",
    "    qc.cx(1, 2)\n",
    "    qc.barrier()\n",
    "    qc.measure(2, 0)\n",
    "    return qc"
   ]
  },
  {
   "cell_type": "code",
   "execution_count": 13,
   "id": "258425b4",
   "metadata": {},
   "outputs": [],
   "source": [
    "bits = [[0, 0], [0, 1], [1, 0], [1, 1]]"
   ]
  },
  {
   "cell_type": "code",
   "execution_count": 14,
   "id": "00a1aec2",
   "metadata": {},
   "outputs": [
    {
     "name": "stdout",
     "output_type": "stream",
     "text": [
      "Circuit:\n",
      "\n",
      "      ░            ░    \n",
      "q_0: ─░───■────────░────\n",
      "      ░   │        ░    \n",
      "q_1: ─░───┼────■───░────\n",
      "      ░ ┌─┴─┐┌─┴─┐ ░ ┌─┐\n",
      "q_2: ─░─┤ X ├┤ X ├─░─┤M├\n",
      "      ░ └───┘└───┘ ░ └╥┘\n",
      "c: 1/═════════════════╩═\n",
      "                      0 \n",
      "Bit 1: 0, Bit 2: 0, Result: {'0': 1024}\n",
      "\n",
      "\n",
      "\n",
      "\n",
      "\n",
      "Circuit:\n",
      "\n",
      "           ░            ░    \n",
      "q_0: ──────░───■────────░────\n",
      "     ┌───┐ ░   │        ░    \n",
      "q_1: ┤ X ├─░───┼────■───░────\n",
      "     └───┘ ░ ┌─┴─┐┌─┴─┐ ░ ┌─┐\n",
      "q_2: ──────░─┤ X ├┤ X ├─░─┤M├\n",
      "           ░ └───┘└───┘ ░ └╥┘\n",
      "c: 1/══════════════════════╩═\n",
      "                           0 \n",
      "Bit 1: 0, Bit 2: 1, Result: {'1': 1024}\n",
      "\n",
      "\n",
      "\n",
      "\n",
      "\n",
      "Circuit:\n",
      "\n",
      "     ┌───┐ ░            ░    \n",
      "q_0: ┤ X ├─░───■────────░────\n",
      "     └───┘ ░   │        ░    \n",
      "q_1: ──────░───┼────■───░────\n",
      "           ░ ┌─┴─┐┌─┴─┐ ░ ┌─┐\n",
      "q_2: ──────░─┤ X ├┤ X ├─░─┤M├\n",
      "           ░ └───┘└───┘ ░ └╥┘\n",
      "c: 1/══════════════════════╩═\n",
      "                           0 \n",
      "Bit 1: 1, Bit 2: 0, Result: {'1': 1024}\n",
      "\n",
      "\n",
      "\n",
      "\n",
      "\n",
      "Circuit:\n",
      "\n",
      "     ┌───┐ ░            ░    \n",
      "q_0: ┤ X ├─░───■────────░────\n",
      "     ├───┤ ░   │        ░    \n",
      "q_1: ┤ X ├─░───┼────■───░────\n",
      "     └───┘ ░ ┌─┴─┐┌─┴─┐ ░ ┌─┐\n",
      "q_2: ──────░─┤ X ├┤ X ├─░─┤M├\n",
      "           ░ └───┘└───┘ ░ └╥┘\n",
      "c: 1/══════════════════════╩═\n",
      "                           0 \n",
      "Bit 1: 1, Bit 2: 1, Result: {'0': 1024}\n",
      "\n",
      "\n",
      "\n",
      "\n",
      "\n"
     ]
    }
   ],
   "source": [
    "for pair in bits:\n",
    "    circ = xor(*pair)\n",
    "    print(\"Circuit:\\n\")\n",
    "    print(circ)\n",
    "    counts = execute(circ, backend=BasicAer.get_backend('qasm_simulator')).result().get_counts()\n",
    "    print(\"Bit 1: {}, Bit 2: {}, Result: {}\".format(pair[0], pair[1], counts))\n",
    "    print(\"\\n\\n\\n\\n\")"
   ]
  },
  {
   "cell_type": "markdown",
   "id": "066892a7",
   "metadata": {},
   "source": [
    "## Extending circuit for n-bit number\n",
    "<br>\n",
    "We'll repeat the above circuit for n-bits. <br>\n",
    "For 2 n-bit numbers, we'll require n qbits each , so total of 2n qbits to represent 2 bits. <br>\n",
    "And we'll require n ancilla qbits to read the results. <br>\n",
    "So we'll need 3n qbits and n classical registers to read the results <br> \n",
    "We'll check if the result is 000..(n times) so that both the numbers match <br>"
   ]
  },
  {
   "cell_type": "code",
   "execution_count": 15,
   "id": "16cdba6b",
   "metadata": {},
   "outputs": [],
   "source": [
    "def compareNumbers(str1: str, str2: str) -> QuantumCircuit:\n",
    "    length = len(str1)\n",
    "    qc = QuantumCircuit(3 * length, length)\n",
    "    for i, (bit1, bit2) in enumerate(zip(str1, str2)):\n",
    "        if bit1 == '1':\n",
    "            qc.x(i)\n",
    "        if bit2 == '1':\n",
    "            qc.x(length + i)\n",
    "        qc.cx(i, 2*length+i)\n",
    "        qc.cx(length+i, 2*length+i)\n",
    "        qc.measure(2*length+i, i)\n",
    "    return qc"
   ]
  },
  {
   "cell_type": "code",
   "execution_count": 16,
   "id": "f0e9a8bf",
   "metadata": {},
   "outputs": [
    {
     "name": "stdout",
     "output_type": "stream",
     "text": [
      "Circuit: \n",
      "\n",
      "      ┌───┐                                                                 »\n",
      " q_0: ┤ X ├───────────────────────────■─────────────────────────────────────»\n",
      "      └───┘                           │                                     »\n",
      " q_1: ───────■────────────────────────┼─────────────────────────────────────»\n",
      "      ┌───┐  │                        │                                     »\n",
      " q_2: ┤ X ├──┼────────────────────────┼─────────■───────────────────────────»\n",
      "      └───┘  │                        │         │                           »\n",
      " q_3: ───────┼────■───────────────────┼─────────┼───────────────────────────»\n",
      "             │    │                   │         │                           »\n",
      " q_4: ───────┼────┼────■──────────────┼─────────┼───────────────────────────»\n",
      "             │    │    │              │         │                           »\n",
      " q_5: ───────┼────┼────┼────■─────────┼─────────┼───────────────────────────»\n",
      "             │    │    │    │         │         │                           »\n",
      " q_6: ───────┼────┼────┼────┼────■────┼─────────┼───────────────────────────»\n",
      "      ┌───┐  │    │    │    │    │    │         │                           »\n",
      " q_7: ┤ X ├──┼────┼────┼────┼────┼────┼─────────┼────────────────────────■──»\n",
      "      └───┘  │    │    │    │    │    │         │                        │  »\n",
      " q_8: ───────┼────┼────┼────┼────┼────┼────■────┼────────────────────────┼──»\n",
      "      ┌───┐  │    │    │    │    │    │    │    │                        │  »\n",
      " q_9: ┤ X ├──┼────┼────┼────┼────┼────┼────┼────┼────────────────────────┼──»\n",
      "      └───┘  │    │    │    │    │    │    │    │                        │  »\n",
      "q_10: ───────┼────┼────┼────┼────┼────┼────┼────┼────■───────────────────┼──»\n",
      "             │    │    │    │    │    │    │    │    │                   │  »\n",
      "q_11: ───────┼────┼────┼────┼────┼────┼────┼────┼────┼────■──────────────┼──»\n",
      "             │    │    │    │    │    │    │    │    │    │              │  »\n",
      "q_12: ───────┼────┼────┼────┼────┼────┼────┼────┼────┼────┼────■─────────┼──»\n",
      "             │    │    │    │    │    │    │    │    │    │    │         │  »\n",
      "q_13: ───────┼────┼────┼────┼────┼────┼────┼────┼────┼────┼────┼────■────┼──»\n",
      "             │    │    │    │    │  ┌─┴─┐  │    │    │    │    │    │  ┌─┴─┐»\n",
      "q_14: ───────┼────┼────┼────┼────┼──┤ X ├──┼────┼────┼────┼────┼────┼──┤ X ├»\n",
      "           ┌─┴─┐  │    │    │    │  └───┘┌─┴─┐  │    │    │    │    │  └┬─┬┘»\n",
      "q_15: ─────┤ X ├──┼────┼────┼────┼───────┤ X ├──┼────┼────┼────┼────┼───┤M├─»\n",
      "           └───┘  │    │    │    │       └───┘┌─┴─┐  │    │    │    │   └╥┘ »\n",
      "q_16: ────────────┼────┼────┼────┼────────────┤ X ├──┼────┼────┼────┼────╫──»\n",
      "                ┌─┴─┐  │    │    │            └───┘┌─┴─┐  │    │    │    ║  »\n",
      "q_17: ──────────┤ X ├──┼────┼────┼─────────────────┤ X ├──┼────┼────┼────╫──»\n",
      "                └───┘┌─┴─┐  │    │                 └───┘┌─┴─┐  │    │    ║  »\n",
      "q_18: ───────────────┤ X ├──┼────┼──────────────────────┤ X ├──┼────┼────╫──»\n",
      "                     └───┘┌─┴─┐  │                      └───┘┌─┴─┐  │    ║  »\n",
      "q_19: ────────────────────┤ X ├──┼───────────────────────────┤ X ├──┼────╫──»\n",
      "                          └───┘┌─┴─┐                         └───┘┌─┴─┐  ║  »\n",
      "q_20: ─────────────────────────┤ X ├──────────────────────────────┤ X ├──╫──»\n",
      "                               └───┘                              └───┘  ║  »\n",
      " c: 7/═══════════════════════════════════════════════════════════════════╩══»\n",
      "                                                                         1  »\n",
      "«                          \n",
      "« q_0: ────────────────────\n",
      "«                          \n",
      "« q_1: ────────────────────\n",
      "«                          \n",
      "« q_2: ────────────────────\n",
      "«                          \n",
      "« q_3: ────────────────────\n",
      "«                          \n",
      "« q_4: ────────────────────\n",
      "«                          \n",
      "« q_5: ────────────────────\n",
      "«                          \n",
      "« q_6: ────────────────────\n",
      "«                          \n",
      "« q_7: ────────────────────\n",
      "«                          \n",
      "« q_8: ────────────────────\n",
      "«                          \n",
      "« q_9: ──■─────────────────\n",
      "«        │                 \n",
      "«q_10: ──┼─────────────────\n",
      "«        │                 \n",
      "«q_11: ──┼─────────────────\n",
      "«        │                 \n",
      "«q_12: ──┼─────────────────\n",
      "«        │                 \n",
      "«q_13: ──┼─────────────────\n",
      "«        │           ┌─┐   \n",
      "«q_14: ──┼───────────┤M├───\n",
      "«        │           └╥┘   \n",
      "«q_15: ──┼────────────╫────\n",
      "«      ┌─┴─┐          ║ ┌─┐\n",
      "«q_16: ┤ X ├──────────╫─┤M├\n",
      "«      └┬─┬┘          ║ └╥┘\n",
      "«q_17: ─┤M├───────────╫──╫─\n",
      "«       └╥┘ ┌─┐       ║  ║ \n",
      "«q_18: ──╫──┤M├───────╫──╫─\n",
      "«        ║  └╥┘┌─┐    ║  ║ \n",
      "«q_19: ──╫───╫─┤M├────╫──╫─\n",
      "«        ║   ║ └╥┘┌─┐ ║  ║ \n",
      "«q_20: ──╫───╫──╫─┤M├─╫──╫─\n",
      "«        ║   ║  ║ └╥┘ ║  ║ \n",
      "« c: 7/══╩═══╩══╩══╩══╩══╩═\n",
      "«        3   4  5  6  0  2 \n",
      "\n",
      " Let's run the circuit, 1010000 and 1010000 should be equal\n",
      "{'0000000': 1024}\n"
     ]
    }
   ],
   "source": [
    "# Let's try out this circuit\n",
    "str1 = '1010000'\n",
    "str2 = '1010000'\n",
    "qc = compareNumbers(str1, str2)\n",
    "print(\"Circuit: \\n\")\n",
    "print(qc)\n",
    "print(f\"\\n Let's run the circuit, {str1} and {str2} should be equal\")\n",
    "counts = execute(qc, backend=BasicAer.get_backend('qasm_simulator')).result().get_counts()\n",
    "print(counts)"
   ]
  },
  {
   "cell_type": "code",
   "execution_count": 17,
   "id": "1c9ac3e3",
   "metadata": {},
   "outputs": [
    {
     "name": "stdout",
     "output_type": "stream",
     "text": [
      "Circuit: \n",
      "\n",
      "      ┌───┐                                                                 »\n",
      " q_0: ┤ X ├───────────────────────────■─────────────────────────────────────»\n",
      "      └───┘                           │                                     »\n",
      " q_1: ──■─────────────────────────────┼─────────────────────────────────────»\n",
      "        │  ┌───┐                      │                                     »\n",
      " q_2: ──┼──┤ X ├──────────────────────┼─────────■───────────────────────────»\n",
      "        │  └───┘                      │         │                           »\n",
      " q_3: ──┼────■────────────────────────┼─────────┼───────────────────────────»\n",
      "        │    │                        │         │                           »\n",
      " q_4: ──┼────┼────■───────────────────┼─────────┼───────────────────────────»\n",
      "        │    │    │                   │         │                           »\n",
      " q_5: ──┼────┼────┼─────────■─────────┼─────────┼───────────────────────────»\n",
      "        │    │    │         │         │         │                           »\n",
      " q_6: ──┼────┼────┼─────────┼────■────┼─────────┼───────────────────────────»\n",
      "        │    │    │         │    │    │         │                           »\n",
      " q_7: ──┼────┼────┼─────────┼────┼────┼─────────┼────────────────────────■──»\n",
      "        │    │    │         │    │    │         │                        │  »\n",
      " q_8: ──┼────┼────┼─────────┼────┼────┼────■────┼────────────────────────┼──»\n",
      "        │    │    │         │    │    │    │    │                        │  »\n",
      " q_9: ──┼────┼────┼─────────┼────┼────┼────┼────┼────────────────────────┼──»\n",
      "        │    │    │         │    │    │    │    │                        │  »\n",
      "q_10: ──┼────┼────┼─────────┼────┼────┼────┼────┼────■───────────────────┼──»\n",
      "        │    │    │         │    │    │    │    │    │                   │  »\n",
      "q_11: ──┼────┼────┼─────────┼────┼────┼────┼────┼────┼────■──────────────┼──»\n",
      "        │    │    │  ┌───┐  │    │    │    │    │    │    │              │  »\n",
      "q_12: ──┼────┼────┼──┤ X ├──┼────┼────┼────┼────┼────┼────┼────■─────────┼──»\n",
      "        │    │    │  ├───┤  │    │    │    │    │    │    │    │         │  »\n",
      "q_13: ──┼────┼────┼──┤ X ├──┼────┼────┼────┼────┼────┼────┼────┼────■────┼──»\n",
      "        │    │    │  └───┘  │    │  ┌─┴─┐  │    │    │    │    │    │  ┌─┴─┐»\n",
      "q_14: ──┼────┼────┼─────────┼────┼──┤ X ├──┼────┼────┼────┼────┼────┼──┤ X ├»\n",
      "      ┌─┴─┐  │    │         │    │  └───┘┌─┴─┐  │    │    │    │    │  └┬─┬┘»\n",
      "q_15: ┤ X ├──┼────┼─────────┼────┼───────┤ X ├──┼────┼────┼────┼────┼───┤M├─»\n",
      "      └───┘  │    │         │    │       └───┘┌─┴─┐  │    │    │    │   └╥┘ »\n",
      "q_16: ───────┼────┼─────────┼────┼────────────┤ X ├──┼────┼────┼────┼────╫──»\n",
      "           ┌─┴─┐  │         │    │            └───┘┌─┴─┐  │    │    │    ║  »\n",
      "q_17: ─────┤ X ├──┼─────────┼────┼─────────────────┤ X ├──┼────┼────┼────╫──»\n",
      "           └───┘┌─┴─┐       │    │                 └───┘┌─┴─┐  │    │    ║  »\n",
      "q_18: ──────────┤ X ├───────┼────┼──────────────────────┤ X ├──┼────┼────╫──»\n",
      "                └───┘     ┌─┴─┐  │                      └───┘┌─┴─┐  │    ║  »\n",
      "q_19: ────────────────────┤ X ├──┼───────────────────────────┤ X ├──┼────╫──»\n",
      "                          └───┘┌─┴─┐                         └───┘┌─┴─┐  ║  »\n",
      "q_20: ─────────────────────────┤ X ├──────────────────────────────┤ X ├──╫──»\n",
      "                               └───┘                              └───┘  ║  »\n",
      " c: 7/═══════════════════════════════════════════════════════════════════╩══»\n",
      "                                                                         1  »\n",
      "«                          \n",
      "« q_0: ────────────────────\n",
      "«                          \n",
      "« q_1: ────────────────────\n",
      "«                          \n",
      "« q_2: ────────────────────\n",
      "«                          \n",
      "« q_3: ────────────────────\n",
      "«                          \n",
      "« q_4: ────────────────────\n",
      "«                          \n",
      "« q_5: ────────────────────\n",
      "«                          \n",
      "« q_6: ────────────────────\n",
      "«                          \n",
      "« q_7: ────────────────────\n",
      "«                          \n",
      "« q_8: ────────────────────\n",
      "«                          \n",
      "« q_9: ──■─────────────────\n",
      "«        │                 \n",
      "«q_10: ──┼─────────────────\n",
      "«        │                 \n",
      "«q_11: ──┼─────────────────\n",
      "«        │                 \n",
      "«q_12: ──┼─────────────────\n",
      "«        │                 \n",
      "«q_13: ──┼─────────────────\n",
      "«        │           ┌─┐   \n",
      "«q_14: ──┼───────────┤M├───\n",
      "«        │           └╥┘   \n",
      "«q_15: ──┼────────────╫────\n",
      "«      ┌─┴─┐          ║ ┌─┐\n",
      "«q_16: ┤ X ├──────────╫─┤M├\n",
      "«      └┬─┬┘          ║ └╥┘\n",
      "«q_17: ─┤M├───────────╫──╫─\n",
      "«       └╥┘ ┌─┐       ║  ║ \n",
      "«q_18: ──╫──┤M├───────╫──╫─\n",
      "«        ║  └╥┘┌─┐    ║  ║ \n",
      "«q_19: ──╫───╫─┤M├────╫──╫─\n",
      "«        ║   ║ └╥┘┌─┐ ║  ║ \n",
      "«q_20: ──╫───╫──╫─┤M├─╫──╫─\n",
      "«        ║   ║  ║ └╥┘ ║  ║ \n",
      "« c: 7/══╩═══╩══╩══╩══╩══╩═\n",
      "«        3   4  5  6  0  2 \n",
      "\n",
      " Let's run the circuit, 1010000 and 0000011 should not be equal\n",
      "{'1100101': 1024}\n"
     ]
    }
   ],
   "source": [
    "# Let's try out this circuit\n",
    "str1 = '1010000'\n",
    "str2 = '0000011'\n",
    "qc = compareNumbers(str1, str2)\n",
    "print(\"Circuit: \\n\")\n",
    "print(qc)\n",
    "print(f\"\\n Let's run the circuit, {str1} and {str2} should not be equal\")\n",
    "counts = execute(qc, backend=BasicAer.get_backend('qasm_simulator')).result().get_counts()\n",
    "print(counts)"
   ]
  },
  {
   "cell_type": "markdown",
   "id": "f64f48f3",
   "metadata": {},
   "source": [
    "## Putting everything together\n",
    "\n",
    "Now let's put everything together: <br>\n",
    "With lengths of 4 sides A, B, C, D we have 3 combinations to check:\n",
    "1) A-B and c-D\n",
    "2) A-C and B-D\n",
    "3) A-D and B-C\n",
    "<br>\n",
    "For each combination, we'll run the quantum circuit above and check if both pairs are equal. <br>\n",
    "If its true for even for one combination, we say that this combination of lengths can possibly form <br>\n",
    "a rectangle <br>"
   ]
  },
  {
   "cell_type": "code",
   "execution_count": 18,
   "id": "ae72a794",
   "metadata": {},
   "outputs": [],
   "source": [
    "from typing import List"
   ]
  },
  {
   "cell_type": "code",
   "execution_count": 19,
   "id": "8d6dbbfe",
   "metadata": {},
   "outputs": [],
   "source": [
    "from itertools import combinations"
   ]
  },
  {
   "cell_type": "code",
   "execution_count": 20,
   "id": "c35faafe",
   "metadata": {},
   "outputs": [],
   "source": [
    "def yieldAllPairs(lst: List[int]) -> List[List[int]]:\n",
    "    if lst == []:\n",
    "        yield []\n",
    "        return\n",
    "    ll = lst[1:]\n",
    "    for j in range(len(ll)):\n",
    "        for end in yieldAllPairs(ll[:j] + ll[j+1:]):\n",
    "            yield [(lst[0], ll[j])] + end"
   ]
  },
  {
   "cell_type": "code",
   "execution_count": 21,
   "id": "1916a1b7",
   "metadata": {},
   "outputs": [],
   "source": [
    "def getCircuit(str1: str, str2: str) -> QuantumCircuit:\n",
    "    length = len(str1)\n",
    "    print(str1, str2)\n",
    "    qc = QuantumCircuit(3 * length, length)\n",
    "    for i, (bit1, bit2) in enumerate(zip(str1, str2)):\n",
    "        if bit1 == '1':\n",
    "            qc.x(i)\n",
    "        if bit2 == '1':\n",
    "            qc.x(length + i)\n",
    "        qc.cx(i, 2*length+i)\n",
    "        qc.cx(length+i, 2*length+i)\n",
    "        qc.measure(2*length+i, i)\n",
    "    return qc"
   ]
  },
  {
   "cell_type": "code",
   "execution_count": 22,
   "id": "826952e6",
   "metadata": {},
   "outputs": [],
   "source": [
    "def compareNumbers(num1: int, num2: int) -> bool:\n",
    "    # Make each number of same length\n",
    "    str1, str2 = equalizeLength(num1, num2)\n",
    "    \n",
    "    # Generate circuit to compare numbers\n",
    "    circ = getCircuit(str1, str2)\n",
    "    print(circ)\n",
    "    \n",
    "    # Answer should be 000..(n times)\n",
    "    # Lets get expected answer ready to\n",
    "    # compare with circuit output.\n",
    "    actual_ans = '0' * len(str1)\n",
    "    \n",
    "    # Run the circuit and generate counts.\n",
    "    generated_ans = execute(circ, backend=BasicAer.get_backend('qasm_simulator')).result().get_counts()\n",
    "    print(generated_ans)\n",
    "    \n",
    "    # Generated answer should have only 1 output with 100% probably\n",
    "    # i.e. all 1024 shots should have same results.\n",
    "    # And that result should be 000...(n times)\n",
    "    if len(list(generated_ans.keys())) == 1 and generated_ans[list(generated_ans.keys())[0]] == 1024:\n",
    "        if list(generated_ans.keys())[0] == actual_ans:\n",
    "            return True\n",
    "        \n",
    "    return False"
   ]
  },
  {
   "cell_type": "code",
   "execution_count": 23,
   "id": "5f8db35d",
   "metadata": {},
   "outputs": [],
   "source": [
    "def isRectangle(lengths: List[int]) -> bool:\n",
    "    assert all(i > 0 for i in lengths), \"Length of side must be > 0.\"\n",
    "    \n",
    "    # Now convert all the numbers to their binary representation.\n",
    "    bin_lengths = [convertToBinStr(num) for num in lengths]\n",
    "    \n",
    "    # Let's generate all possible combination of pairs\n",
    "    pairs_gen = yieldAllPairs(bin_lengths)\n",
    "    \n",
    "    # For each combination, check if both pairs have \n",
    "    # equal numbers.\n",
    "    for pairs in pairs_gen:\n",
    "        if compareNumbers(*pairs[0]) and compareNumbers(*pairs[1]):\n",
    "            return True\n",
    "    \n",
    "    return False"
   ]
  },
  {
   "cell_type": "code",
   "execution_count": 24,
   "id": "baa4228a",
   "metadata": {
    "scrolled": false
   },
   "outputs": [
    {
     "name": "stdout",
     "output_type": "stream",
     "text": [
      "1000 1100\n",
      "      ┌───┐                                                 \n",
      " q_0: ┤ X ├─────────────────■───────────────────────────────\n",
      "      └───┘                 │                               \n",
      " q_1: ───────■──────────────┼───────────────────────────────\n",
      "             │              │                               \n",
      " q_2: ───────┼────■─────────┼───────────────────────────────\n",
      "             │    │         │                               \n",
      " q_3: ───────┼────┼────■────┼───────────────────────────────\n",
      "      ┌───┐  │    │    │    │                               \n",
      " q_4: ┤ X ├──┼────┼────┼────┼───────────────────■───────────\n",
      "      ├───┤  │    │    │    │                   │           \n",
      " q_5: ┤ X ├──┼────┼────┼────┼────■──────────────┼───────────\n",
      "      └───┘  │    │    │    │    │              │           \n",
      " q_6: ───────┼────┼────┼────┼────┼────■─────────┼───────────\n",
      "             │    │    │    │    │    │         │           \n",
      " q_7: ───────┼────┼────┼────┼────┼────┼────■────┼───────────\n",
      "             │    │    │  ┌─┴─┐  │    │    │  ┌─┴─┐      ┌─┐\n",
      " q_8: ───────┼────┼────┼──┤ X ├──┼────┼────┼──┤ X ├──────┤M├\n",
      "           ┌─┴─┐  │    │  └───┘┌─┴─┐  │    │  └┬─┬┘      └╥┘\n",
      " q_9: ─────┤ X ├──┼────┼───────┤ X ├──┼────┼───┤M├────────╫─\n",
      "           └───┘┌─┴─┐  │       └───┘┌─┴─┐  │   └╥┘ ┌─┐    ║ \n",
      "q_10: ──────────┤ X ├──┼────────────┤ X ├──┼────╫──┤M├────╫─\n",
      "                └───┘┌─┴─┐          └───┘┌─┴─┐  ║  └╥┘┌─┐ ║ \n",
      "q_11: ───────────────┤ X ├───────────────┤ X ├──╫───╫─┤M├─╫─\n",
      "                     └───┘               └───┘  ║   ║ └╥┘ ║ \n",
      " c: 4/══════════════════════════════════════════╩═══╩══╩══╩═\n",
      "                                                1   2  3  0 \n",
      "{'0010': 1024}\n",
      "1000 1100\n",
      "      ┌───┐                                                 \n",
      " q_0: ┤ X ├─────────────────■───────────────────────────────\n",
      "      └───┘                 │                               \n",
      " q_1: ───────■──────────────┼───────────────────────────────\n",
      "             │              │                               \n",
      " q_2: ───────┼────■─────────┼───────────────────────────────\n",
      "             │    │         │                               \n",
      " q_3: ───────┼────┼────■────┼───────────────────────────────\n",
      "      ┌───┐  │    │    │    │                               \n",
      " q_4: ┤ X ├──┼────┼────┼────┼───────────────────■───────────\n",
      "      ├───┤  │    │    │    │                   │           \n",
      " q_5: ┤ X ├──┼────┼────┼────┼────■──────────────┼───────────\n",
      "      └───┘  │    │    │    │    │              │           \n",
      " q_6: ───────┼────┼────┼────┼────┼────■─────────┼───────────\n",
      "             │    │    │    │    │    │         │           \n",
      " q_7: ───────┼────┼────┼────┼────┼────┼────■────┼───────────\n",
      "             │    │    │  ┌─┴─┐  │    │    │  ┌─┴─┐      ┌─┐\n",
      " q_8: ───────┼────┼────┼──┤ X ├──┼────┼────┼──┤ X ├──────┤M├\n",
      "           ┌─┴─┐  │    │  └───┘┌─┴─┐  │    │  └┬─┬┘      └╥┘\n",
      " q_9: ─────┤ X ├──┼────┼───────┤ X ├──┼────┼───┤M├────────╫─\n",
      "           └───┘┌─┴─┐  │       └───┘┌─┴─┐  │   └╥┘ ┌─┐    ║ \n",
      "q_10: ──────────┤ X ├──┼────────────┤ X ├──┼────╫──┤M├────╫─\n",
      "                └───┘┌─┴─┐          └───┘┌─┴─┐  ║  └╥┘┌─┐ ║ \n",
      "q_11: ───────────────┤ X ├───────────────┤ X ├──╫───╫─┤M├─╫─\n",
      "                     └───┘               └───┘  ║   ║ └╥┘ ║ \n",
      " c: 4/══════════════════════════════════════════╩═══╩══╩══╩═\n",
      "                                                1   2  3  0 \n",
      "{'0010': 1024}\n",
      "1000 1000\n",
      "      ┌───┐                                                 \n",
      " q_0: ┤ X ├─────────────────■───────────────────────────────\n",
      "      └───┘                 │                               \n",
      " q_1: ───────■──────────────┼───────────────────────────────\n",
      "             │              │                               \n",
      " q_2: ───────┼────■─────────┼───────────────────────────────\n",
      "             │    │         │                               \n",
      " q_3: ───────┼────┼────■────┼───────────────────────────────\n",
      "      ┌───┐  │    │    │    │                               \n",
      " q_4: ┤ X ├──┼────┼────┼────┼───────────────────■───────────\n",
      "      └───┘  │    │    │    │                   │           \n",
      " q_5: ───────┼────┼────┼────┼────■──────────────┼───────────\n",
      "             │    │    │    │    │              │           \n",
      " q_6: ───────┼────┼────┼────┼────┼────■─────────┼───────────\n",
      "             │    │    │    │    │    │         │           \n",
      " q_7: ───────┼────┼────┼────┼────┼────┼────■────┼───────────\n",
      "             │    │    │  ┌─┴─┐  │    │    │  ┌─┴─┐      ┌─┐\n",
      " q_8: ───────┼────┼────┼──┤ X ├──┼────┼────┼──┤ X ├──────┤M├\n",
      "           ┌─┴─┐  │    │  └───┘┌─┴─┐  │    │  └┬─┬┘      └╥┘\n",
      " q_9: ─────┤ X ├──┼────┼───────┤ X ├──┼────┼───┤M├────────╫─\n",
      "           └───┘┌─┴─┐  │       └───┘┌─┴─┐  │   └╥┘ ┌─┐    ║ \n",
      "q_10: ──────────┤ X ├──┼────────────┤ X ├──┼────╫──┤M├────╫─\n",
      "                └───┘┌─┴─┐          └───┘┌─┴─┐  ║  └╥┘┌─┐ ║ \n",
      "q_11: ───────────────┤ X ├───────────────┤ X ├──╫───╫─┤M├─╫─\n",
      "                     └───┘               └───┘  ║   ║ └╥┘ ║ \n",
      " c: 4/══════════════════════════════════════════╩═══╩══╩══╩═\n",
      "                                                1   2  3  0 \n",
      "{'0000': 1024}\n",
      "1100 1100\n",
      "      ┌───┐                                              \n",
      " q_0: ┤ X ├────────────■─────────────────────────────────\n",
      "      ├───┤            │                                 \n",
      " q_1: ┤ X ├────────────┼────■────────────────────────────\n",
      "      └───┘            │    │                            \n",
      " q_2: ───────■─────────┼────┼────────────────────────────\n",
      "             │         │    │                            \n",
      " q_3: ───────┼────■────┼────┼────────────────────────────\n",
      "      ┌───┐  │    │    │    │                            \n",
      " q_4: ┤ X ├──┼────┼────┼────┼──────────────■─────────────\n",
      "      ├───┤  │    │    │    │              │             \n",
      " q_5: ┤ X ├──┼────┼────┼────┼──────────────┼────■────────\n",
      "      └───┘  │    │    │    │              │    │        \n",
      " q_6: ───────┼────┼────┼────┼────■─────────┼────┼────────\n",
      "             │    │    │    │    │         │    │        \n",
      " q_7: ───────┼────┼────┼────┼────┼────■────┼────┼────────\n",
      "             │    │  ┌─┴─┐  │    │    │  ┌─┴─┐  │  ┌─┐   \n",
      " q_8: ───────┼────┼──┤ X ├──┼────┼────┼──┤ X ├──┼──┤M├───\n",
      "             │    │  └───┘┌─┴─┐  │    │  └───┘┌─┴─┐└╥┘┌─┐\n",
      " q_9: ───────┼────┼───────┤ X ├──┼────┼───────┤ X ├─╫─┤M├\n",
      "           ┌─┴─┐  │       └───┘┌─┴─┐  │   ┌─┐ └───┘ ║ └╥┘\n",
      "q_10: ─────┤ X ├──┼────────────┤ X ├──┼───┤M├───────╫──╫─\n",
      "           └───┘┌─┴─┐          └───┘┌─┴─┐ └╥┘  ┌─┐  ║  ║ \n",
      "q_11: ──────────┤ X ├───────────────┤ X ├──╫───┤M├──╫──╫─\n",
      "                └───┘               └───┘  ║   └╥┘  ║  ║ \n",
      " c: 4/═════════════════════════════════════╩════╩═══╩══╩═\n",
      "                                           2    3   0  1 \n",
      "{'0000': 1024}\n"
     ]
    },
    {
     "data": {
      "text/plain": [
       "True"
      ]
     },
     "execution_count": 24,
     "metadata": {},
     "output_type": "execute_result"
    }
   ],
   "source": [
    "# Let's test the code with few examples\n",
    "lengths = [8, 12, 12, 8]\n",
    "\n",
    "isRectangle(lengths)"
   ]
  },
  {
   "cell_type": "code",
   "execution_count": 25,
   "id": "e1ac4efe",
   "metadata": {
    "scrolled": false
   },
   "outputs": [
    {
     "name": "stdout",
     "output_type": "stream",
     "text": [
      "1000 1111\n",
      "      ┌───┐                                                 \n",
      " q_0: ┤ X ├─────────────────■───────────────────────────────\n",
      "      └───┘                 │                               \n",
      " q_1: ───────■──────────────┼───────────────────────────────\n",
      "             │              │                               \n",
      " q_2: ───────┼────■─────────┼───────────────────────────────\n",
      "             │    │         │                               \n",
      " q_3: ───────┼────┼────■────┼───────────────────────────────\n",
      "      ┌───┐  │    │    │    │                               \n",
      " q_4: ┤ X ├──┼────┼────┼────┼───────────────────■───────────\n",
      "      ├───┤  │    │    │    │                   │           \n",
      " q_5: ┤ X ├──┼────┼────┼────┼────■──────────────┼───────────\n",
      "      ├───┤  │    │    │    │    │              │           \n",
      " q_6: ┤ X ├──┼────┼────┼────┼────┼────■─────────┼───────────\n",
      "      ├───┤  │    │    │    │    │    │         │           \n",
      " q_7: ┤ X ├──┼────┼────┼────┼────┼────┼────■────┼───────────\n",
      "      └───┘  │    │    │  ┌─┴─┐  │    │    │  ┌─┴─┐      ┌─┐\n",
      " q_8: ───────┼────┼────┼──┤ X ├──┼────┼────┼──┤ X ├──────┤M├\n",
      "           ┌─┴─┐  │    │  └───┘┌─┴─┐  │    │  └┬─┬┘      └╥┘\n",
      " q_9: ─────┤ X ├──┼────┼───────┤ X ├──┼────┼───┤M├────────╫─\n",
      "           └───┘┌─┴─┐  │       └───┘┌─┴─┐  │   └╥┘ ┌─┐    ║ \n",
      "q_10: ──────────┤ X ├──┼────────────┤ X ├──┼────╫──┤M├────╫─\n",
      "                └───┘┌─┴─┐          └───┘┌─┴─┐  ║  └╥┘┌─┐ ║ \n",
      "q_11: ───────────────┤ X ├───────────────┤ X ├──╫───╫─┤M├─╫─\n",
      "                     └───┘               └───┘  ║   ║ └╥┘ ║ \n",
      " c: 4/══════════════════════════════════════════╩═══╩══╩══╩═\n",
      "                                                1   2  3  0 \n",
      "{'1110': 1024}\n",
      "1000 1100\n",
      "      ┌───┐                                                 \n",
      " q_0: ┤ X ├─────────────────■───────────────────────────────\n",
      "      └───┘                 │                               \n",
      " q_1: ───────■──────────────┼───────────────────────────────\n",
      "             │              │                               \n",
      " q_2: ───────┼────■─────────┼───────────────────────────────\n",
      "             │    │         │                               \n",
      " q_3: ───────┼────┼────■────┼───────────────────────────────\n",
      "      ┌───┐  │    │    │    │                               \n",
      " q_4: ┤ X ├──┼────┼────┼────┼───────────────────■───────────\n",
      "      ├───┤  │    │    │    │                   │           \n",
      " q_5: ┤ X ├──┼────┼────┼────┼────■──────────────┼───────────\n",
      "      └───┘  │    │    │    │    │              │           \n",
      " q_6: ───────┼────┼────┼────┼────┼────■─────────┼───────────\n",
      "             │    │    │    │    │    │         │           \n",
      " q_7: ───────┼────┼────┼────┼────┼────┼────■────┼───────────\n",
      "             │    │    │  ┌─┴─┐  │    │    │  ┌─┴─┐      ┌─┐\n",
      " q_8: ───────┼────┼────┼──┤ X ├──┼────┼────┼──┤ X ├──────┤M├\n",
      "           ┌─┴─┐  │    │  └───┘┌─┴─┐  │    │  └┬─┬┘      └╥┘\n",
      " q_9: ─────┤ X ├──┼────┼───────┤ X ├──┼────┼───┤M├────────╫─\n",
      "           └───┘┌─┴─┐  │       └───┘┌─┴─┐  │   └╥┘ ┌─┐    ║ \n",
      "q_10: ──────────┤ X ├──┼────────────┤ X ├──┼────╫──┤M├────╫─\n",
      "                └───┘┌─┴─┐          └───┘┌─┴─┐  ║  └╥┘┌─┐ ║ \n",
      "q_11: ───────────────┤ X ├───────────────┤ X ├──╫───╫─┤M├─╫─\n",
      "                     └───┘               └───┘  ║   ║ └╥┘ ║ \n",
      " c: 4/══════════════════════════════════════════╩═══╩══╩══╩═\n",
      "                                                1   2  3  0 \n",
      "{'0010': 1024}\n",
      "1000 1000\n",
      "      ┌───┐                                                 \n",
      " q_0: ┤ X ├─────────────────■───────────────────────────────\n",
      "      └───┘                 │                               \n",
      " q_1: ───────■──────────────┼───────────────────────────────\n",
      "             │              │                               \n",
      " q_2: ───────┼────■─────────┼───────────────────────────────\n",
      "             │    │         │                               \n",
      " q_3: ───────┼────┼────■────┼───────────────────────────────\n",
      "      ┌───┐  │    │    │    │                               \n",
      " q_4: ┤ X ├──┼────┼────┼────┼───────────────────■───────────\n",
      "      └───┘  │    │    │    │                   │           \n",
      " q_5: ───────┼────┼────┼────┼────■──────────────┼───────────\n",
      "             │    │    │    │    │              │           \n",
      " q_6: ───────┼────┼────┼────┼────┼────■─────────┼───────────\n",
      "             │    │    │    │    │    │         │           \n",
      " q_7: ───────┼────┼────┼────┼────┼────┼────■────┼───────────\n",
      "             │    │    │  ┌─┴─┐  │    │    │  ┌─┴─┐      ┌─┐\n",
      " q_8: ───────┼────┼────┼──┤ X ├──┼────┼────┼──┤ X ├──────┤M├\n",
      "           ┌─┴─┐  │    │  └───┘┌─┴─┐  │    │  └┬─┬┘      └╥┘\n",
      " q_9: ─────┤ X ├──┼────┼───────┤ X ├──┼────┼───┤M├────────╫─\n",
      "           └───┘┌─┴─┐  │       └───┘┌─┴─┐  │   └╥┘ ┌─┐    ║ \n",
      "q_10: ──────────┤ X ├──┼────────────┤ X ├──┼────╫──┤M├────╫─\n",
      "                └───┘┌─┴─┐          └───┘┌─┴─┐  ║  └╥┘┌─┐ ║ \n",
      "q_11: ───────────────┤ X ├───────────────┤ X ├──╫───╫─┤M├─╫─\n",
      "                     └───┘               └───┘  ║   ║ └╥┘ ║ \n",
      " c: 4/══════════════════════════════════════════╩═══╩══╩══╩═\n",
      "                                                1   2  3  0 \n",
      "{'0000': 1024}\n",
      "1111 1100\n",
      "      ┌───┐                                                    \n",
      " q_0: ┤ X ├──■─────────────────────────────────────────────────\n",
      "      ├───┤  │                                                 \n",
      " q_1: ┤ X ├──┼────■────────────────────────────────────────────\n",
      "      ├───┤  │    │                                            \n",
      " q_2: ┤ X ├──┼────┼────■───────────────────────────────────────\n",
      "      ├───┤  │    │    │                                       \n",
      " q_3: ┤ X ├──┼────┼────┼────■──────────────────────────────────\n",
      "      ├───┤  │    │    │    │                                  \n",
      " q_4: ┤ X ├──┼────┼────┼────┼────■─────────────────────────────\n",
      "      ├───┤  │    │    │    │    │                             \n",
      " q_5: ┤ X ├──┼────┼────┼────┼────┼────■────────────────────────\n",
      "      └───┘  │    │    │    │    │    │                        \n",
      " q_6: ───────┼────┼────┼────┼────┼────┼────■───────────────────\n",
      "             │    │    │    │    │    │    │                   \n",
      " q_7: ───────┼────┼────┼────┼────┼────┼────┼────■──────────────\n",
      "           ┌─┴─┐  │    │    │  ┌─┴─┐  │    │    │  ┌─┐         \n",
      " q_8: ─────┤ X ├──┼────┼────┼──┤ X ├──┼────┼────┼──┤M├─────────\n",
      "           └───┘┌─┴─┐  │    │  └───┘┌─┴─┐  │    │  └╥┘┌─┐      \n",
      " q_9: ──────────┤ X ├──┼────┼───────┤ X ├──┼────┼───╫─┤M├──────\n",
      "                └───┘┌─┴─┐  │       └───┘┌─┴─┐  │   ║ └╥┘┌─┐   \n",
      "q_10: ───────────────┤ X ├──┼────────────┤ X ├──┼───╫──╫─┤M├───\n",
      "                     └───┘┌─┴─┐          └───┘┌─┴─┐ ║  ║ └╥┘┌─┐\n",
      "q_11: ────────────────────┤ X ├───────────────┤ X ├─╫──╫──╫─┤M├\n",
      "                          └───┘               └───┘ ║  ║  ║ └╥┘\n",
      " c: 4/══════════════════════════════════════════════╩══╩══╩══╩═\n",
      "                                                    0  1  2  3 \n",
      "{'1100': 1024}\n"
     ]
    },
    {
     "data": {
      "text/plain": [
       "False"
      ]
     },
     "execution_count": 25,
     "metadata": {},
     "output_type": "execute_result"
    }
   ],
   "source": [
    "lengths = [8, 15, 12, 8]\n",
    "\n",
    "isRectangle(lengths)"
   ]
  },
  {
   "cell_type": "code",
   "execution_count": 26,
   "id": "b010b6e2",
   "metadata": {},
   "outputs": [
    {
     "ename": "AssertionError",
     "evalue": "Length of side must be > 0.",
     "output_type": "error",
     "traceback": [
      "\u001b[0;31m---------------------------------------------------------------------------\u001b[0m",
      "\u001b[0;31mAssertionError\u001b[0m                            Traceback (most recent call last)",
      "Cell \u001b[0;32mIn[26], line 3\u001b[0m\n\u001b[1;32m      1\u001b[0m lengths \u001b[38;5;241m=\u001b[39m [\u001b[38;5;241m8\u001b[39m, \u001b[38;5;241m12\u001b[39m, \u001b[38;5;241m-\u001b[39m\u001b[38;5;241m12\u001b[39m, \u001b[38;5;241m8\u001b[39m]\n\u001b[0;32m----> 3\u001b[0m \u001b[43misRectangle\u001b[49m\u001b[43m(\u001b[49m\u001b[43mlengths\u001b[49m\u001b[43m)\u001b[49m\n",
      "Cell \u001b[0;32mIn[23], line 2\u001b[0m, in \u001b[0;36misRectangle\u001b[0;34m(lengths)\u001b[0m\n\u001b[1;32m      1\u001b[0m \u001b[38;5;28;01mdef\u001b[39;00m \u001b[38;5;21misRectangle\u001b[39m(lengths: List[\u001b[38;5;28mint\u001b[39m]) \u001b[38;5;241m-\u001b[39m\u001b[38;5;241m>\u001b[39m \u001b[38;5;28mbool\u001b[39m:\n\u001b[0;32m----> 2\u001b[0m     \u001b[38;5;28;01massert\u001b[39;00m \u001b[38;5;28mall\u001b[39m(i \u001b[38;5;241m>\u001b[39m \u001b[38;5;241m0\u001b[39m \u001b[38;5;28;01mfor\u001b[39;00m i \u001b[38;5;129;01min\u001b[39;00m lengths), \u001b[38;5;124m\"\u001b[39m\u001b[38;5;124mLength of side must be > 0.\u001b[39m\u001b[38;5;124m\"\u001b[39m\n\u001b[1;32m      4\u001b[0m     \u001b[38;5;66;03m# Now convert all the numbers to their binary representation.\u001b[39;00m\n\u001b[1;32m      5\u001b[0m     bin_lengths \u001b[38;5;241m=\u001b[39m [convertToBinStr(num) \u001b[38;5;28;01mfor\u001b[39;00m num \u001b[38;5;129;01min\u001b[39;00m lengths]\n",
      "\u001b[0;31mAssertionError\u001b[0m: Length of side must be > 0."
     ]
    }
   ],
   "source": [
    "lengths = [8, 12, -12, 8]\n",
    "\n",
    "isRectangle(lengths)"
   ]
  },
  {
   "cell_type": "markdown",
   "id": "8d805524",
   "metadata": {},
   "source": [
    "# Approach 2\n",
    "<br>\n",
    "One of the problem with above approach is number of qbits and number of classical bits required. <br>\n",
    "For numbers with N bit representation, this requires 3N Qbits and N classical bits <br>\n",
    "Also, we need to compare 2 pairs of numbers separately, so for 4 side lengths, we end up doing 6 comparisons <br>\n",
    "So, we can think of better approach. <br>\n",
    "<br>\n",
    "Two states are equal if inner product of two states is 0 <br>\n",
    "And we can find out the inner product between 2 states using swap test. <br>"
   ]
  },
  {
   "cell_type": "markdown",
   "id": "7ed2745c",
   "metadata": {},
   "source": [
    "## Swap Test\n",
    "<br>\n",
    "The swap test uses 1 ancilla qbit which is put into superposition with a Hadamard gate.<br>\n",
    "Then the controlled swap gate is applied to 2 qbits representing the states contorlled on ancilla qbit<br>\n",
    "The Hadamard gate is applied again to ancilla qbit and this ancilla qbit state is measured <br>\n",
    "If both qbits have equal states then ancilla qbit will be |0> <br>\n",
    "However if the states of both qbits are orthogonal ancilla qbit will be |0〉or |1〉with equal probability. "
   ]
  },
  {
   "cell_type": "code",
   "execution_count": 27,
   "id": "73b94d88",
   "metadata": {},
   "outputs": [],
   "source": [
    "from qiskit import QuantumRegister, ClassicalRegister"
   ]
  },
  {
   "cell_type": "code",
   "execution_count": 28,
   "id": "15a5884b",
   "metadata": {},
   "outputs": [],
   "source": [
    "# Let's code the swap test gate\n",
    "def swapTest(num1: int, num2: int)-> QuantumCircuit:\n",
    "    q = QuantumRegister(3,'q')\n",
    "    c = ClassicalRegister(1,'c')\n",
    "    circuit = QuantumCircuit(q,c)\n",
    "    circuit.h(q[0])\n",
    "    if num1 == 1:\n",
    "        circuit.x(q[1])\n",
    "    if num2 == 1:\n",
    "        circuit.x(q[2])\n",
    "    circuit.cswap(q[0],q[1],q[2]) # Contolled SWAP gate\n",
    "    circuit.h(q[0]) \n",
    "    circuit.measure(q[0],c[0])\n",
    "    return circuit"
   ]
  },
  {
   "cell_type": "code",
   "execution_count": 29,
   "id": "e96cca4f",
   "metadata": {},
   "outputs": [],
   "source": [
    "nums = [[0, 0], [0, 1], [1, 0], [1, 1]]"
   ]
  },
  {
   "cell_type": "code",
   "execution_count": 30,
   "id": "38feda8a",
   "metadata": {},
   "outputs": [
    {
     "name": "stdout",
     "output_type": "stream",
     "text": [
      "Circuit: \n",
      "\n",
      "     ┌───┐   ┌───┐┌─┐\n",
      "q_0: ┤ H ├─■─┤ H ├┤M├\n",
      "     └───┘ │ └───┘└╥┘\n",
      "q_1: ──────X───────╫─\n",
      "           │       ║ \n",
      "q_2: ──────X───────╫─\n",
      "                   ║ \n",
      "c: 1/══════════════╩═\n",
      "                   0 \n",
      "Num1: 0, Num2: 0, Ans: {'0': 1024}\n",
      "\n",
      "\n",
      "\n",
      "\n",
      "Circuit: \n",
      "\n",
      "     ┌───┐   ┌───┐┌─┐\n",
      "q_0: ┤ H ├─■─┤ H ├┤M├\n",
      "     └───┘ │ └───┘└╥┘\n",
      "q_1: ──────X───────╫─\n",
      "     ┌───┐ │       ║ \n",
      "q_2: ┤ X ├─X───────╫─\n",
      "     └───┘         ║ \n",
      "c: 1/══════════════╩═\n",
      "                   0 \n",
      "Num1: 0, Num2: 1, Ans: {'0': 500, '1': 524}\n",
      "\n",
      "\n",
      "\n",
      "\n",
      "Circuit: \n",
      "\n",
      "     ┌───┐   ┌───┐┌─┐\n",
      "q_0: ┤ H ├─■─┤ H ├┤M├\n",
      "     ├───┤ │ └───┘└╥┘\n",
      "q_1: ┤ X ├─X───────╫─\n",
      "     └───┘ │       ║ \n",
      "q_2: ──────X───────╫─\n",
      "                   ║ \n",
      "c: 1/══════════════╩═\n",
      "                   0 \n",
      "Num1: 1, Num2: 0, Ans: {'0': 539, '1': 485}\n",
      "\n",
      "\n",
      "\n",
      "\n",
      "Circuit: \n",
      "\n",
      "     ┌───┐   ┌───┐┌─┐\n",
      "q_0: ┤ H ├─■─┤ H ├┤M├\n",
      "     ├───┤ │ └───┘└╥┘\n",
      "q_1: ┤ X ├─X───────╫─\n",
      "     ├───┤ │       ║ \n",
      "q_2: ┤ X ├─X───────╫─\n",
      "     └───┘         ║ \n",
      "c: 1/══════════════╩═\n",
      "                   0 \n",
      "Num1: 1, Num2: 1, Ans: {'0': 1024}\n",
      "\n",
      "\n",
      "\n",
      "\n"
     ]
    }
   ],
   "source": [
    "for num in nums:\n",
    "    qc = swapTest(*num)\n",
    "    \n",
    "    print(\"Circuit: \\n\")\n",
    "    print(qc)\n",
    "    \n",
    "    # run the circuit and measure the result.\n",
    "    counts = execute(qc, backend=BasicAer.get_backend('qasm_simulator')).result().get_counts()\n",
    "    \n",
    "    print(f\"Num1: {num[0]}, Num2: {num[1]}, Ans: {counts}\")\n",
    "    print(\"\\n\\n\\n\")"
   ]
  },
  {
   "cell_type": "markdown",
   "id": "df49259e",
   "metadata": {},
   "source": [
    "Now for each combination of pair of lengths (A-B, C-D), we'll follow below steps:\n",
    "<br>\n",
    "1) We'll initialize 3 QuantumRegisters each with 2 qbits and 1 ClassicalRegister with 2 bits to read result.\n",
    "2) We'll encode the numbers into qbit using rotation gate and angle equivalent to the arcsin of numbers.\n",
    "3) We'll apply the swap test gate\n",
    "4) We'll check the measurement result, if the result is |00> with 100% probabaility then both the states in each pair are equal."
   ]
  },
  {
   "cell_type": "code",
   "execution_count": 31,
   "id": "99ba80f8",
   "metadata": {},
   "outputs": [],
   "source": [
    "import numpy as np"
   ]
  },
  {
   "cell_type": "code",
   "execution_count": 32,
   "id": "b2073608",
   "metadata": {},
   "outputs": [],
   "source": [
    "def getCircuit2(pair1: Tuple[int, int], pair2: Tuple[int, int])-> QuantumCircuit:\n",
    "    qrs = [QuantumRegister(2) for _ in range(3)]\n",
    "    cr = ClassicalRegister(2)\n",
    "    \n",
    "    # Create the quantum circuit\n",
    "    qc = QuantumCircuit(*qrs, cr)\n",
    "    \n",
    "    qc.ry(2*np.arcsin(pair1[0]), qrs[1][0])\n",
    "    qc.ry(2*np.arcsin(pair1[1]), qrs[1][1])\n",
    "    qc.ry(2*np.arcsin(pair2[0]), qrs[2][0])\n",
    "    qc.ry(2*np.arcsin(pair2[1]), qrs[2][1])\n",
    "\n",
    "    # Apply the swap circuit\n",
    "    qc.h(qrs[0])\n",
    "    qc.cswap(qrs[0][0], qrs[1][0], qrs[1][1])\n",
    "    qc.cswap(qrs[0][1], qrs[2][0], qrs[2][1])\n",
    "    qc.h(qrs[0])\n",
    "\n",
    "    # Measure ancilla qubits without collapsing the wavefunction\n",
    "    qc.measure(qrs[0][0], cr[0])\n",
    "    qc.measure(qrs[0][1], cr[1])\n",
    "    \n",
    "    return qc"
   ]
  },
  {
   "cell_type": "code",
   "execution_count": 33,
   "id": "9132cb16",
   "metadata": {},
   "outputs": [],
   "source": [
    "# Now we'll just check if the result is |00>\n",
    "def isRectangle(lengths: List[int]) -> bool:\n",
    "    assert all(i > 0 for i in lengths), \"Length of side must be > 0.\"\n",
    "    \n",
    "    # normalize the lengths\n",
    "    lengths = [length/max(lengths) for length in lengths]\n",
    "    \n",
    "    # Let's generate all possible combination of pairs\n",
    "    pairs_gen = yieldAllPairs(lengths)\n",
    "    \n",
    "    # For each combination, check if both pairs have \n",
    "    # equal numbers.\n",
    "    for pairs in pairs_gen:\n",
    "        qc = getCircuit2(pairs[0], pairs[1])\n",
    "        print(\"Circuit:\\n\")\n",
    "        print(qc)\n",
    "        \n",
    "        counts = execute(qc, backend=BasicAer.get_backend('qasm_simulator')).result().get_counts()\n",
    "        print(counts)\n",
    "        \n",
    "        if len(list(counts.keys())) == 1 and counts[list(counts.keys())[0]] == 1024:\n",
    "            print(counts[list(counts.keys())[0]])\n",
    "            if list(counts.keys())[0] == '00':\n",
    "                return True\n",
    "    \n",
    "    return False"
   ]
  },
  {
   "cell_type": "code",
   "execution_count": 34,
   "id": "4f1eefff",
   "metadata": {},
   "outputs": [
    {
     "name": "stdout",
     "output_type": "stream",
     "text": [
      "Circuit:\n",
      "\n",
      "           ┌───┐        ┌───┐     ┌─┐   \n",
      "q77_0: ────┤ H ├──────■─┤ H ├─────┤M├───\n",
      "           ├───┤      │ └───┘┌───┐└╥┘┌─┐\n",
      "q77_1: ────┤ H ├──────┼───■──┤ H ├─╫─┤M├\n",
      "       ┌───┴───┴────┐ │   │  └───┘ ║ └╥┘\n",
      "q78_0: ┤ Ry(1.4595) ├─X───┼────────╫──╫─\n",
      "       └─┬───────┬──┘ │   │        ║  ║ \n",
      "q78_1: ──┤ Ry(π) ├────X───┼────────╫──╫─\n",
      "         ├───────┤        │        ║  ║ \n",
      "q79_0: ──┤ Ry(π) ├────────X────────╫──╫─\n",
      "       ┌─┴───────┴──┐     │        ║  ║ \n",
      "q79_1: ┤ Ry(1.4595) ├─────X────────╫──╫─\n",
      "       └────────────┘              ║  ║ \n",
      " c0: 2/════════════════════════════╩══╩═\n",
      "                                   0  1 \n",
      "{'00': 523, '01': 212, '10': 214, '11': 75}\n",
      "Circuit:\n",
      "\n",
      "           ┌───┐        ┌───┐     ┌─┐   \n",
      "q84_0: ────┤ H ├──────■─┤ H ├─────┤M├───\n",
      "           ├───┤      │ └───┘┌───┐└╥┘┌─┐\n",
      "q84_1: ────┤ H ├──────┼───■──┤ H ├─╫─┤M├\n",
      "       ┌───┴───┴────┐ │   │  └───┘ ║ └╥┘\n",
      "q85_0: ┤ Ry(1.4595) ├─X───┼────────╫──╫─\n",
      "       └─┬───────┬──┘ │   │        ║  ║ \n",
      "q85_1: ──┤ Ry(π) ├────X───┼────────╫──╫─\n",
      "         ├───────┤        │        ║  ║ \n",
      "q86_0: ──┤ Ry(π) ├────────X────────╫──╫─\n",
      "       ┌─┴───────┴──┐     │        ║  ║ \n",
      "q86_1: ┤ Ry(1.4595) ├─────X────────╫──╫─\n",
      "       └────────────┘              ║  ║ \n",
      " c1: 2/════════════════════════════╩══╩═\n",
      "                                   0  1 \n",
      "{'00': 548, '01': 200, '10': 197, '11': 79}\n",
      "Circuit:\n",
      "\n",
      "           ┌───┐        ┌───┐     ┌─┐   \n",
      "q91_0: ────┤ H ├──────■─┤ H ├─────┤M├───\n",
      "           ├───┤      │ └───┘┌───┐└╥┘┌─┐\n",
      "q91_1: ────┤ H ├──────┼───■──┤ H ├─╫─┤M├\n",
      "       ┌───┴───┴────┐ │   │  └───┘ ║ └╥┘\n",
      "q92_0: ┤ Ry(1.4595) ├─X───┼────────╫──╫─\n",
      "       ├────────────┤ │   │        ║  ║ \n",
      "q92_1: ┤ Ry(1.4595) ├─X───┼────────╫──╫─\n",
      "       └─┬───────┬──┘     │        ║  ║ \n",
      "q93_0: ──┤ Ry(π) ├────────X────────╫──╫─\n",
      "         ├───────┤        │        ║  ║ \n",
      "q93_1: ──┤ Ry(π) ├────────X────────╫──╫─\n",
      "         └───────┘                 ║  ║ \n",
      " c2: 2/════════════════════════════╩══╩═\n",
      "                                   0  1 \n",
      "{'00': 1024}\n",
      "1024\n"
     ]
    },
    {
     "data": {
      "text/plain": [
       "True"
      ]
     },
     "execution_count": 34,
     "metadata": {},
     "output_type": "execute_result"
    }
   ],
   "source": [
    "# Now let's again run few examples\n",
    "lengths = [8, 12, 12, 8]\n",
    "\n",
    "isRectangle(lengths)"
   ]
  },
  {
   "cell_type": "code",
   "execution_count": 35,
   "id": "7de1ccb4",
   "metadata": {},
   "outputs": [
    {
     "name": "stdout",
     "output_type": "stream",
     "text": [
      "Circuit:\n",
      "\n",
      "             ┌───┐         ┌───┐     ┌─┐   \n",
      " q98_0: ─────┤ H ├───────■─┤ H ├─────┤M├───\n",
      "             ├───┤       │ └───┘┌───┐└╥┘┌─┐\n",
      " q98_1: ─────┤ H ├───────┼───■──┤ H ├─╫─┤M├\n",
      "        ┌────┴───┴─────┐ │   │  └───┘ ║ └╥┘\n",
      " q99_0: ┤ Ry(0.022472) ├─X───┼────────╫──╫─\n",
      "        ├─────────────┬┘ │   │        ║  ║ \n",
      " q99_1: ┤ Ry(0.34725) ├──X───┼────────╫──╫─\n",
      "        └──┬───────┬──┘      │        ║  ║ \n",
      "q100_0: ───┤ Ry(π) ├─────────X────────╫──╫─\n",
      "        ┌──┴───────┴──┐      │        ║  ║ \n",
      "q100_1: ┤ Ry(0.27616) ├──────X────────╫──╫─\n",
      "        └─────────────┘               ║  ║ \n",
      "  c3: 2/══════════════════════════════╩══╩═\n",
      "                                      0  1 \n",
      "{'10': 506, '00': 510, '01': 5, '11': 3}\n",
      "Circuit:\n",
      "\n",
      "             ┌───┐         ┌───┐     ┌─┐   \n",
      "q105_0: ─────┤ H ├───────■─┤ H ├─────┤M├───\n",
      "             ├───┤       │ └───┘┌───┐└╥┘┌─┐\n",
      "q105_1: ─────┤ H ├───────┼───■──┤ H ├─╫─┤M├\n",
      "        ┌────┴───┴─────┐ │   │  └───┘ ║ └╥┘\n",
      "q106_0: ┤ Ry(0.022472) ├─X───┼────────╫──╫─\n",
      "        └──┬───────┬───┘ │   │        ║  ║ \n",
      "q106_1: ───┤ Ry(π) ├─────X───┼────────╫──╫─\n",
      "        ┌──┴───────┴──┐      │        ║  ║ \n",
      "q107_0: ┤ Ry(0.34725) ├──────X────────╫──╫─\n",
      "        ├─────────────┤      │        ║  ║ \n",
      "q107_1: ┤ Ry(0.27616) ├──────X────────╫──╫─\n",
      "        └─────────────┘               ║  ║ \n",
      "  c4: 2/══════════════════════════════╩══╩═\n",
      "                                      0  1 \n",
      "{'01': 523, '00': 499, '10': 2}\n",
      "Circuit:\n",
      "\n",
      "             ┌───┐         ┌───┐     ┌─┐   \n",
      "q112_0: ─────┤ H ├───────■─┤ H ├─────┤M├───\n",
      "             ├───┤       │ └───┘┌───┐└╥┘┌─┐\n",
      "q112_1: ─────┤ H ├───────┼───■──┤ H ├─╫─┤M├\n",
      "        ┌────┴───┴─────┐ │   │  └───┘ ║ └╥┘\n",
      "q113_0: ┤ Ry(0.022472) ├─X───┼────────╫──╫─\n",
      "        ├─────────────┬┘ │   │        ║  ║ \n",
      "q113_1: ┤ Ry(0.27616) ├──X───┼────────╫──╫─\n",
      "        ├─────────────┤      │        ║  ║ \n",
      "q114_0: ┤ Ry(0.34725) ├──────X────────╫──╫─\n",
      "        └──┬───────┬──┘      │        ║  ║ \n",
      "q114_1: ───┤ Ry(π) ├─────────X────────╫──╫─\n",
      "           └───────┘                  ║  ║ \n",
      "  c5: 2/══════════════════════════════╩══╩═\n",
      "                                      0  1 \n",
      "{'10': 516, '00': 500, '01': 5, '11': 3}\n"
     ]
    },
    {
     "data": {
      "text/plain": [
       "False"
      ]
     },
     "execution_count": 35,
     "metadata": {},
     "output_type": "execute_result"
    }
   ],
   "source": [
    "lengths = [8, 123, 712, 98]\n",
    "\n",
    "isRectangle(lengths)"
   ]
  },
  {
   "cell_type": "code",
   "execution_count": null,
   "id": "30fe1f6a",
   "metadata": {},
   "outputs": [],
   "source": []
  }
 ],
 "metadata": {
  "kernelspec": {
   "display_name": "Python 3 (ipykernel)",
   "language": "python",
   "name": "python3"
  },
  "language_info": {
   "codemirror_mode": {
    "name": "ipython",
    "version": 3
   },
   "file_extension": ".py",
   "mimetype": "text/x-python",
   "name": "python",
   "nbconvert_exporter": "python",
   "pygments_lexer": "ipython3",
   "version": "3.10.9"
  }
 },
 "nbformat": 4,
 "nbformat_minor": 5
}
